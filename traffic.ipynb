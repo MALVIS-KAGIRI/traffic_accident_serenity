{
 "cells": [
  {
   "cell_type": "code",
   "execution_count": null,
   "id": "17bc9d6e-f5b8-4277-81bd-c94b50df5007",
   "metadata": {},
   "outputs": [
    {
     "ename": "ModuleNotFoundError",
     "evalue": "No module named 'seaborn'",
     "output_type": "error",
     "traceback": [
      "\u001b[1;31m---------------------------------------------------------------------------\u001b[0m",
      "\u001b[1;31mModuleNotFoundError\u001b[0m                       Traceback (most recent call last)",
      "Cell \u001b[1;32mIn[1], line 2\u001b[0m\n\u001b[0;32m      1\u001b[0m \u001b[38;5;28;01mimport\u001b[39;00m \u001b[38;5;21;01mpandas\u001b[39;00m \u001b[38;5;28;01mas\u001b[39;00m \u001b[38;5;21;01mpd\u001b[39;00m\n\u001b[1;32m----> 2\u001b[0m \u001b[38;5;28;01mimport\u001b[39;00m \u001b[38;5;21;01mseaborn\u001b[39;00m \u001b[38;5;28;01mas\u001b[39;00m \u001b[38;5;21;01msns\u001b[39;00m\n\u001b[0;32m      3\u001b[0m \u001b[38;5;28;01mimport\u001b[39;00m \u001b[38;5;21;01mmatplotlib\u001b[39;00m\u001b[38;5;21;01m.\u001b[39;00m\u001b[38;5;21;01mpyplot\u001b[39;00m \u001b[38;5;28;01mas\u001b[39;00m \u001b[38;5;21;01mplt\u001b[39;00m\n\u001b[0;32m      4\u001b[0m \u001b[38;5;28;01mimport\u001b[39;00m \u001b[38;5;21;01mnumpy\u001b[39;00m \u001b[38;5;28;01mas\u001b[39;00m \u001b[38;5;21;01mnp\u001b[39;00m \n",
      "\u001b[1;31mModuleNotFoundError\u001b[0m: No module named 'seaborn'"
     ]
    },
    {
     "ename": "",
     "evalue": "",
     "output_type": "error",
     "traceback": [
      "\u001b[1;31mThe kernel failed to start as the Python Environment 'matrix' is no longer available. Consider selecting another kernel or refreshing the list of Python Environments."
     ]
    }
   ],
   "source": [
    "import pandas as pd\n",
    "import seaborn as sns\n",
    "import matplotlib.pyplot as plt\n",
    "import numpy as np \n",
    "sns.set_style('whitegrid')\n",
    "%matplotlib inline\n",
    "import numpy as np\n",
    "from sklearn.preprocessing import MinMaxScaler\n",
    "\n",
    "\n",
    "from sklearn.svm import SVC\n",
    "from sklearn.neighbors import KNeighborsClassifier\n",
    "from sklearn.tree import DecisionTreeClassifier\n",
    "from sklearn.ensemble import RandomForestClassifier\n",
    "from sklearn.linear_model import SGDClassifier\n",
    "import xgboost as xgb \n",
    "from sklearn import ensemble \n",
    "from folium.plugins import HeatMap\n",
    "plt.style.use('ggplot')\n",
    "\n",
    "\n",
    "from sklearn.model_selection import train_test_split\n",
    "from sklearn.feature_selection import SelectFromModel\n",
    "from imblearn.over_sampling import SMOTE\n",
    "from sklearn.metrics import precision_score, recall_score, f1_score, roc_auc_score, accuracy_score, classification_report\n",
    "from sklearn.model_selection import KFold, StratifiedKFold\n",
    "from sklearn.preprocessing import StandardScaler\n",
    "from sklearn.preprocessing import LabelEncoder\n",
    "from sklearn.pipeline import Pipeline\n",
    "from sklearn.model_selection import GridSearchCV\n",
    "from sklearn.metrics import make_scorer, matthews_corrcoef\n",
    "import folium\n",
    "from folium.plugins import MarkerCluster"
   ]
  },
  {
   "cell_type": "code",
   "execution_count": null,
   "id": "99202ba4-49f4-44d4-b79d-2dd25b35bb59",
   "metadata": {},
   "outputs": [],
   "source": [
    "df = pd.read_csv(\"archive(3)/US_Accidents_March23.csv\")"
   ]
  },
  {
   "cell_type": "code",
   "execution_count": null,
   "id": "df5adf8c-0bea-412a-8622-ae49543a3f13",
   "metadata": {},
   "outputs": [],
   "source": [
    "df.head(10)"
   ]
  },
  {
   "cell_type": "code",
   "execution_count": null,
   "id": "6f18df20-2ec3-48bc-816e-2e4e5548b666",
   "metadata": {},
   "outputs": [],
   "source": [
    "df.columns"
   ]
  },
  {
   "cell_type": "code",
   "execution_count": null,
   "id": "92772927-8fb4-4445-9d4a-cee895e6d193",
   "metadata": {},
   "outputs": [],
   "source": [
    "df.isna().sum()"
   ]
  },
  {
   "cell_type": "code",
   "execution_count": null,
   "id": "cf389f07-f68f-4f53-9cb5-049be45d53e6",
   "metadata": {},
   "outputs": [],
   "source": [
    "df.duplicated().sum()"
   ]
  },
  {
   "cell_type": "code",
   "execution_count": null,
   "id": "5743b183-98a1-4399-8f1a-275ae2622923",
   "metadata": {
    "scrolled": true
   },
   "outputs": [],
   "source": [
    "df.isnull().sum()"
   ]
  },
  {
   "cell_type": "code",
   "execution_count": null,
   "id": "d72879f7-5e8d-41f0-8d7f-65f346083be5",
   "metadata": {},
   "outputs": [],
   "source": [
    "df.info()"
   ]
  },
  {
   "cell_type": "code",
   "execution_count": null,
   "id": "6fe1335d-0f37-4379-b87f-2066f4957e4b",
   "metadata": {},
   "outputs": [],
   "source": [
    "df.Source.unique()\n"
   ]
  },
  {
   "cell_type": "code",
   "execution_count": null,
   "id": "1815d61c-c9fe-48ae-b0de-1cf46da7afeb",
   "metadata": {},
   "outputs": [],
   "source": [
    "states = df.State.unique()\n"
   ]
  },
  {
   "cell_type": "code",
   "execution_count": null,
   "id": "186f323e-3e1e-463c-aa77-9ee2ee09b7c2",
   "metadata": {},
   "outputs": [],
   "source": [
    "count_by_state=[]\n",
    "for i in df.State.unique():\n",
    "    count_by_state.append(df[df['State']==i].count()['ID'])\n",
    "\n",
    "fig,ax = plt.subplots(figsize=(16,10))\n",
    "sns.barplot(count_by_state)"
   ]
  },
  {
   "cell_type": "code",
   "execution_count": null,
   "id": "bab26066-0e45-4118-be9a-133f0879253a",
   "metadata": {},
   "outputs": [],
   "source": [
    "sns.jointplot(x=df.Start_Lat.values,y=df.Start_Lng.values,height=10)\n",
    "plt.ylabel('Start_Lat', fontsize=12)\n",
    "plt.xlabel('Start_Lng', fontsize=12)\n",
    "plt.show()"
   ]
  },
  {
   "cell_type": "code",
   "execution_count": null,
   "id": "4e01f1b1-ec2c-4b4b-973f-7f39d8bdd259",
   "metadata": {},
   "outputs": [],
   "source": [
    "sns.jointplot(x=df.End_Lat.values,y=df.End_Lng.values,height=10)\n",
    "plt.ylabel('End_Lat', fontsize=12)\n",
    "plt.xlabel('End_Lng', fontsize=12)\n",
    "plt.show()"
   ]
  },
  {
   "cell_type": "code",
   "execution_count": null,
   "id": "f5b69f91-263a-45dd-a35f-d0a0c7e1247e",
   "metadata": {},
   "outputs": [],
   "source": [
    "fig, ax=plt.subplots(figsize=(16,7))\n",
    "df['Weather_Condition'].value_counts().sort_values(ascending=False).head(5).plot.bar(width=0.5,edgecolor='k',align='center',linewidth=2)\n",
    "plt.xlabel('Weather_Condition',fontsize=20)\n",
    "plt.ylabel('Number of Accidents',fontsize=20)\n",
    "ax.tick_params(labelsize=20)\n",
    "plt.title('5 Top Weather Condition for accidents',fontsize=25)\n",
    "plt.grid()\n",
    "plt.ioff()"
   ]
  },
  {
   "cell_type": "code",
   "execution_count": null,
   "id": "65c87070-0779-45f9-a167-116e686670ec",
   "metadata": {},
   "outputs": [],
   "source": [
    "dtype_df = df.dtypes.reset_index()\n",
    "dtype_df.columns = [\"Count\", \"Column Type\"]\n",
    "dtype_df"
   ]
  },
  {
   "cell_type": "code",
   "execution_count": null,
   "id": "09a237f0-0bdc-400f-9558-e319031b988f",
   "metadata": {},
   "outputs": [],
   "source": [
    "missing_df = df.isnull().sum(axis=0).reset_index()\n",
    "missing_df.columns = ['columns_name','missing_count']\n",
    "missing_df['missing_ratio'] = missing_df['missing_count'] /df.shape[0]\n",
    "missing_df.loc[missing_df['missing_ratio']>0.777]"
   ]
  },
  {
   "cell_type": "code",
   "execution_count": null,
   "id": "7726ce20-3813-4f8c-9b0a-e9fd0479eb1d",
   "metadata": {},
   "outputs": [],
   "source": [
    "missin = missing_df.loc[missing_df['missing_count']>250000]\n",
    "removelist = missin['columns_name'].tolist()\n",
    "removelist"
   ]
  },
  {
   "cell_type": "code",
   "execution_count": null,
   "id": "814ed26d-2c4d-4e8b-b2be-fb0edd51cef6",
   "metadata": {},
   "outputs": [],
   "source": [
    "df['Start_Time'] = pd.to_datetime(df['Start_Time'], errors='coerce')\n",
    "df['End_Time'] = pd.to_datetime(df['End_Time'], errors='coerce')\n",
    "\n",
    "# Extract year, month, day, hour and weekday\n",
    "df['Year']=df['Start_Time'].dt.year\n",
    "df['Month']=df['Start_Time'].dt.strftime('%b')\n",
    "df['Day']=df['Start_Time'].dt.day\n",
    "df['Hour']=df['Start_Time'].dt.hour\n",
    "df['Weekday']=df['Start_Time'].dt.strftime('%a')\n",
    "\n",
    "# Extract the amount of time in the unit of minutes for each accident, round to the nearest integer\n",
    "td='Time_Duration(min)'\n",
    "df[td]=round((df['End_Time']-df['Start_Time'])/np.timedelta64(1,'m'))"
   ]
  },
  {
   "cell_type": "code",
   "execution_count": null,
   "id": "dd7cb0d7-c760-4a65-a32e-a9bb8fbc5195",
   "metadata": {},
   "outputs": [],
   "source": [
    "neg_outliers=df[td]<=0\n",
    "\n",
    "# Set outliers to NAN\n",
    "df[neg_outliers] = np.nan\n",
    "\n",
    "# Drop rows with negative td\n",
    "df.dropna(subset=[td],axis=0,inplace=True)"
   ]
  },
  {
   "cell_type": "code",
   "execution_count": null,
   "id": "aba5b399-8529-4f28-b613-124fd5f19839",
   "metadata": {},
   "outputs": [],
   "source": [
    "feature_list=df.columns\n",
    "df_copy = df[feature_list].copy()\n",
    "df_copy.info()"
   ]
  },
  {
   "cell_type": "code",
   "execution_count": null,
   "id": "497e5e8c-394a-42e0-b11f-493ea78b64dd",
   "metadata": {},
   "outputs": [],
   "source": [
    "x_cols = [col for col in df_copy.columns if col not in ['Severity'] if df_copy[col].dtype=='float64']\n",
    "\n",
    "labels = []\n",
    "values = []\n",
    "for col in x_cols:\n",
    "    labels.append(col)\n",
    "    values.append(np.corrcoef(df[col].values, df.Severity.values)[0,1])\n",
    "corr_df = pd.DataFrame({'col_labels':labels, 'corr_values':values})\n",
    "corr_df = corr_df.sort_values(by='corr_values')\n",
    "\n",
    "ind = np.arange(len(labels))\n",
    "width = 0.9\n",
    "fig, ax = plt.subplots(figsize=(12,40))\n",
    "rects = ax.barh(ind, np.array(corr_df.corr_values.values), color='y')\n",
    "ax.set_yticks(ind)\n",
    "ax.set_yticklabels(corr_df.col_labels.values, rotation='horizontal')\n",
    "ax.set_xlabel(\"Correlation coefficient\")\n",
    "ax.set_title(\"Correlation coefficient of the variables\")\n",
    "plt.show()"
   ]
  },
  {
   "cell_type": "code",
   "execution_count": null,
   "id": "984538f9-d9d1-461b-998b-6c7fa07ace5b",
   "metadata": {},
   "outputs": [],
   "source": [
    "corr_zero_columns = ['Turning_Loop','Visibility(mi)','Pressure(in)','Humidity(%)','Temperature(F)']\n",
    "for col in corr_zero_columns:\n",
    "    print(col,len(df_copy[col].unique()))"
   ]
  },
  {
   "cell_type": "code",
   "execution_count": null,
   "id": "2f121896-ec21-4b33-a0cb-0266f8e9f7dd",
   "metadata": {},
   "outputs": [],
   "source": [
    "corr_df_sel = corr_df.loc[(corr_df['corr_values']>0.05) | (corr_df['corr_values'] < -0.05)]\n",
    "corr_df_sel"
   ]
  },
  {
   "cell_type": "code",
   "execution_count": null,
   "id": "3ad064fb-2601-4cbc-a729-b567d1a5459e",
   "metadata": {},
   "outputs": [],
   "source": [
    "corr_df_ = corr_df_sel.col_labels.tolist()\n",
    "\n",
    "tem_df = df[corr_df_]\n",
    "\n",
    "corrmat = tem_df.corr(method='spearman')\n",
    "fig,ax= plt.subplots(figsize=(8,8))\n",
    "\n",
    "sns.heatmap(corrmat,vmax=1,square = True)\n",
    "plt.title('corr map',fontsize=15)\n",
    "plt.show()"
   ]
  },
  {
   "cell_type": "code",
   "execution_count": null,
   "id": "fdf046d5-02ac-4026-81c8-cc80770cf3bc",
   "metadata": {},
   "outputs": [],
   "source": [
    "fig = plt.figure(figsize=(10,10)) \n",
    "fig_dims = (3, 2)\n",
    "\n",
    "\n",
    "plt.subplot2grid(fig_dims, (0, 0))\n",
    "df['Amenity'].value_counts().plot(kind='bar', \n",
    "                                     title='Amenity')\n",
    "plt.subplot2grid(fig_dims, (0, 1))\n",
    "df['Crossing'].value_counts().plot(kind='bar', \n",
    "                                     title='Crossing')\n",
    "plt.subplot2grid(fig_dims, (1, 0))\n",
    "df['Junction'].value_counts().plot(kind='bar', \n",
    "                                     title='Junction')\n",
    "plt.subplot2grid(fig_dims, (1, 1))\n",
    "df['Junction'].value_counts().plot(kind='bar', \n",
    "                                     title='Junction')"
   ]
  },
  {
   "cell_type": "code",
   "execution_count": null,
   "id": "cc9c0374-7c48-4ecd-a394-91578a690ac8",
   "metadata": {},
   "outputs": [],
   "source": [
    "plt.figure(figsize=(12,8))\n",
    "sns.boxplot(x=\"Severity\", y=\"Wind_Chill(F)\", data=df)\n",
    "plt.ylabel('Wind_Chill(F)', fontsize=12)\n",
    "plt.xlabel('Severity', fontsize=12)\n",
    "plt.xticks(rotation='vertical')\n",
    "plt.show()"
   ]
  },
  {
   "cell_type": "code",
   "execution_count": null,
   "id": "e6dc68e0-4ba9-42b6-af6f-b1ff20208e0d",
   "metadata": {},
   "outputs": [],
   "source": [
    "plt.figure(figsize=(12,8))\n",
    "sns.violinplot(x='Severity', y='Amenity', data=df)\n",
    "plt.xlabel('Severity', fontsize=12)\n",
    "plt.ylabel('Amenity', fontsize=12)\n",
    "plt.show()"
   ]
  },
  {
   "cell_type": "code",
   "execution_count": null,
   "id": "752eecca-695e-4fb5-b312-12b03249f317",
   "metadata": {},
   "outputs": [],
   "source": [
    "plt.figure(figsize=(12,8))\n",
    "sns.violinplot(x='Severity', y='Wind_Chill(F)', data=df)\n",
    "plt.xlabel('Severity', fontsize=12)\n",
    "plt.ylabel('Wind_Chill(F)', fontsize=12)\n",
    "plt.show()"
   ]
  },
  {
   "cell_type": "code",
   "execution_count": null,
   "id": "b7b9a6d6-73ab-42e2-bf63-e4bcb33f7ef1",
   "metadata": {},
   "outputs": [],
   "source": [
    "plt.figure(figsize=(12,8))\n",
    "sns.violinplot(x='Severity', y='Crossing', data=df)\n",
    "plt.xlabel('Severity', fontsize=12)\n",
    "plt.ylabel('Crossing', fontsize=12)\n",
    "plt.show()"
   ]
  },
  {
   "cell_type": "code",
   "execution_count": null,
   "id": "5e30d959-7644-4f75-a678-d17984302793",
   "metadata": {},
   "outputs": [],
   "source": [
    "plt.figure(figsize=(12,8))\n",
    "sns.violinplot(x='Severity', y='Junction', data= df)\n",
    "plt.xlabel('Severity', fontsize=12)\n",
    "plt.ylabel('Junction', fontsize=12)\n",
    "plt.show()"
   ]
  },
  {
   "cell_type": "code",
   "execution_count": null,
   "id": "6ac417da-5848-4c52-9904-c9215f78f4dd",
   "metadata": {},
   "outputs": [],
   "source": [
    "plt.figure(figsize=(12,8))\n",
    "sns.violinplot(x='Severity', y='Traffic_Signal', data=df)\n",
    "plt.xlabel('Severity', fontsize=12)\n",
    "plt.ylabel('Traffic_Signal', fontsize=12)\n",
    "plt.show()"
   ]
  },
  {
   "cell_type": "code",
   "execution_count": null,
   "id": "3cd9c8a0-51a4-4acd-8ab6-5cc196146920",
   "metadata": {},
   "outputs": [],
   "source": [
    "df.dropna(subset=df.columns[df.isnull().mean()!=0], how='any', axis=0, inplace=True)\n",
    "df.shape"
   ]
  },
  {
   "cell_type": "code",
   "execution_count": null,
   "id": "196776c0-6b77-4e75-8ff3-7114601a6699",
   "metadata": {},
   "outputs": [],
   "source": [
    "train_y = df['Severity'].values\n",
    "x_cols = [col for col in df.columns if col not in ['Severity'] if df[col].dtype=='float64']\n",
    "train_col= df[x_cols]\n",
    "\n",
    "fearture_name = train_col.columns.values \n",
    "\n",
    "from sklearn import ensemble \n",
    "\n",
    "model = ensemble.ExtraTreesRegressor(n_estimators=25, max_depth=30, max_features=0.3, n_jobs=-1, random_state=0)\n",
    "model.fit(train_col,train_y)\n",
    "\n",
    "#plot imp \n",
    "importance = model.feature_importances_\n",
    "std = np.std([tree.feature_importances_ for tree in model.estimators_],axis=0)\n",
    "indices = np.argsort(importance)[::-1][:20]\n",
    "\n",
    "plt.figure(figsize=(12,12))\n",
    "plt.title(\"Feature importances\")\n",
    "plt.bar(range(len(indices)), importance[indices], color=\"r\", yerr=std[indices], align=\"center\")\n",
    "plt.xticks(range(len(indices)), fearture_name[indices], rotation='vertical')\n",
    "plt.xlim([-1, len(indices)])\n",
    "plt.show()"
   ]
  },
  {
   "cell_type": "code",
   "execution_count": null,
   "id": "9b5f83a1-d683-4339-b980-bf6ed07fe614",
   "metadata": {},
   "outputs": [],
   "source": [
    "import xgboost as xgb \n",
    "\n",
    "xgb_prames = {\n",
    "    'eta': 0.05,\n",
    "    'max_depth': 8,\n",
    "    'subsample': 0.7,\n",
    "    'colsample_bytree': 0.7,\n",
    "    'objective': 'reg:linear',\n",
    "    'silent': 1,\n",
    "    'seed' : 0\n",
    "}\n",
    "\n",
    "dtrain = xgb.DMatrix(train_col,train_y,feature_names=train_col.columns.values)\n",
    "\n",
    "model = xgb.train(dict(xgb_prames, silent=0), dtrain, num_boost_round=50)\n",
    "\n",
    "\n",
    "fig, ax = plt.subplots(figsize=(12,18))\n",
    "xgb.plot_importance(model, max_num_features=50, height=0.8, ax=ax)\n",
    "plt.show()"
   ]
  },
  {
   "cell_type": "code",
   "execution_count": null,
   "id": "6a8da543-c38d-400c-9cdc-ff13fe731f3a",
   "metadata": {},
   "outputs": [],
   "source": []
  },
  {
   "cell_type": "markdown",
   "id": "0563e155-d1cd-43c2-82e6-431b2c4b6838",
   "metadata": {},
   "source": [
    "## Geospartial analysis"
   ]
  },
  {
   "cell_type": "code",
   "execution_count": null,
   "id": "521c463b-2589-4883-897a-bc69a0027a19",
   "metadata": {},
   "outputs": [],
   "source": [
    "def create_map(df_loc, latitude, longitude, zoom, tiles='OpenStreetMap'):\n",
    "    \"\"\"\n",
    "    Generate a Folium Map with clustered markers of accident locations.\n",
    "    \"\"\"\n",
    "    world_map = folium.Map(location=[latitude, longitude], zoom_start=zoom, tiles=tiles)\n",
    "    marker_cluster = MarkerCluster().add_to(world_map)\n",
    "\n",
    "    # Iterate over the DataFrame rows and add each marker to the cluster\n",
    "    for idx, row in df_loc.iterrows():\n",
    "        folium.Marker(\n",
    "            location=[row['Start_Lat'], row['Start_Lng']],\n",
    "            # You can add more attributes to your marker here, such as a popup\n",
    "            popup=f\"Lat, Lng: {row['Start_Lat']}, {row['Start_Lng']}\"\n",
    "        ).add_to(marker_cluster)\n",
    "\n",
    "    return world_map"
   ]
  },
  {
   "cell_type": "code",
   "execution_count": null,
   "id": "6368fbc4-d3fe-4702-ac80-a540357d1307",
   "metadata": {},
   "outputs": [],
   "source": [
    "us_cities_coords = {\n",
    "    \"New York\": {\"lat\": 40.7128, \"lon\": -74.0060},\n",
    "    \"Los Angeles\": {\"lat\": 34.0522, \"lon\": -118.2437},\n",
    "    \"Chicago\": {\"lat\": 41.8781, \"lon\": -87.6298},\n",
    "    \"Houston\": {\"lat\": 29.7604, \"lon\": -95.3698},\n",
    "    \"Phoenix\": {\"lat\": 33.4484, \"lon\": -112.0740},\n",
    "    \"Philadelphia\": {\"lat\": 39.9526, \"lon\": -75.1652},\n",
    "    \"San Antonio\": {\"lat\": 29.4241, \"lon\": -98.4936},\n",
    "    \"San Diego\": {\"lat\": 32.7157, \"lon\": -117.1611},\n",
    "    \"Dallas\": {\"lat\": 32.7767, \"lon\": -96.7970},\n",
    "    \"San Jose\": {\"lat\": 37.3382, \"lon\": -121.8863},\n",
    "    \"Austin\": {\"lat\": 30.2672, \"lon\": -97.7431},\n",
    "    \"Jacksonville\": {\"lat\": 30.3322, \"lon\": -81.6557},\n",
    "    \"Fort Worth\": {\"lat\": 32.7555, \"lon\": -97.3308},\n",
    "    \"Columbus\": {\"lat\": 39.9612, \"lon\": -82.9988},\n",
    "    \"San Francisco\": {\"lat\": 37.7749, \"lon\": -122.4194},\n",
    "    \"Charlotte\": {\"lat\": 35.2271, \"lon\": -80.8431},\n",
    "    \"Indianapolis\": {\"lat\": 39.7684, \"lon\": -86.1581},\n",
    "    \"Seattle\": {\"lat\": 47.6062, \"lon\": -122.3321},\n",
    "    \"Denver\": {\"lat\": 39.7392, \"lon\": -104.9903},\n",
    "    \"Washington\": {\"lat\": 38.9072, \"lon\": -77.0369}\n",
    "}"
   ]
  },
  {
   "cell_type": "code",
   "execution_count": null,
   "id": "e179cb4a-b725-4046-9b6c-f64c4f8d8e8c",
   "metadata": {},
   "outputs": [],
   "source": [
    "df_loc = df.loc[(~df.Start_Lat.isna()) & (~df.Start_Lng.isna())]"
   ]
  },
  {
   "cell_type": "markdown",
   "id": "4a94483c-62fc-4ddc-bb02-babc8da03e86",
   "metadata": {},
   "source": [
    "### Mapping US car accidents"
   ]
  },
  {
   "cell_type": "code",
   "execution_count": null,
   "id": "4ed25a1b-fda3-4567-900e-44dcc0de38fd",
   "metadata": {},
   "outputs": [],
   "source": [
    "\n",
    "\n",
    "#Create and display a Folium map with clustered markers for accident locations \n",
    "# centered on the US geographical center.\n",
    "map_us = create_map(df_loc, 39.50, -98.35, 4)\n",
    "map_us\n",
    "\n"
   ]
  },
  {
   "cell_type": "markdown",
   "id": "dafea3f7-746c-41c9-a878-4151098e9c88",
   "metadata": {},
   "source": [
    "\n",
    "### Mapping Using Car Accidents - Using Cartodbdark Matter Tiles"
   ]
  },
  {
   "cell_type": "code",
   "execution_count": null,
   "id": "ac6db00b-16f8-4f60-a4b8-c67ae2d837d6",
   "metadata": {},
   "outputs": [],
   "source": [
    "\n",
    "\n",
    "map_us = create_map(df_loc, 39.50, -98.35, 4, tiles=\"Cartodbdark_matter\")\n",
    "map_us\n",
    "\n"
   ]
  },
  {
   "cell_type": "markdown",
   "id": "24e55e50-30df-4cdd-a898-4d184fa8c1cc",
   "metadata": {},
   "source": [
    "### Mapping New York Car Accidents - Using Cartodbpositron Tiles"
   ]
  },
  {
   "cell_type": "code",
   "execution_count": null,
   "id": "4db45d30-a626-4fb3-9471-efb2cba8a292",
   "metadata": {},
   "outputs": [],
   "source": [
    "\n",
    "\n",
    "map_ny = create_map(\n",
    "    df_loc, us_cities_coords['New York']['lat'],\n",
    "    us_cities_coords['New York']['lon'],\n",
    "    10, tiles=\"cartodbpositron\")\n",
    "map_ny\n",
    "\n"
   ]
  },
  {
   "cell_type": "markdown",
   "id": "0b70a3dd-6fc2-47c7-8ec5-a130ce1c30c1",
   "metadata": {},
   "source": [
    "### \n",
    "Mapping Los Angeles Car Accidents - Cartodbdark Matter Tiles"
   ]
  },
  {
   "cell_type": "code",
   "execution_count": null,
   "id": "57e42569-8375-4f50-90d1-904179515482",
   "metadata": {},
   "outputs": [],
   "source": [
    "\n",
    "\n",
    "map_ls = create_map(df_loc, \n",
    "                    us_cities_coords['Los Angeles']['lat'],\n",
    "                    us_cities_coords['Los Angeles']['lon'], \n",
    "                    10,\n",
    "                    tiles=\"Cartodbdark_matter\"\n",
    "                   )\n",
    "map_ls\n",
    "\n"
   ]
  },
  {
   "cell_type": "markdown",
   "id": "a80707e4-6336-4de0-9534-f9c75fdc7e7c",
   "metadata": {},
   "source": [
    "### Mapping Los Angeles Car Accidents- Using Folium Heatmap"
   ]
  },
  {
   "cell_type": "code",
   "execution_count": null,
   "id": "0d9625f1-3bfb-48b8-804a-296b284403cd",
   "metadata": {},
   "outputs": [],
   "source": [
    "from folium.plugins import HeatMap\n",
    "\n",
    "def create_heatmap(df_loc, latitude, longitude, zoom, tiles='OpenStreetMap'):\n",
    "    \"\"\"\n",
    "    Generate a Folium Map with a heatmap of accident locations.\n",
    "    \"\"\"\n",
    "    # Create a list of coordinates from the dataframe columns 'Start_Lat' and 'Start_Lng'\n",
    "    heat_data = [[row['Start_Lat'], row['Start_Lng']] for index, row in df_loc.iterrows()]\n",
    "\n",
    "    # Create a map centered around the specified coordinates\n",
    "    world_map = folium.Map(location=[latitude, longitude], zoom_start=zoom, tiles=tiles)\n",
    "\n",
    "    # Add the heatmap layer to the map\n",
    "    HeatMap(heat_data).add_to(world_map)\n",
    "\n",
    "    return world_map\n",
    "\n",
    "\n",
    "# Create a heatmap for the entire US using the create_heatmap function\n",
    "map_us_heatmap = create_heatmap(df_loc.sample(3000), us_cities_coords['Los Angeles']['lat'],\n",
    "                                us_cities_coords['Los Angeles']['lon']\n",
    "                                ,  10)\n",
    "\n",
    "map_us_heatmap"
   ]
  },
  {
   "cell_type": "markdown",
   "id": "621438ea-ee1d-4e85-bb11-4f789f78c8ff",
   "metadata": {},
   "source": [
    "### Simple CircleMarker Accident Map of US Car Accidents"
   ]
  },
  {
   "cell_type": "code",
   "execution_count": null,
   "id": "6f8643f9-0fb3-431f-b2fc-0e25bd5fb70c",
   "metadata": {},
   "outputs": [],
   "source": [
    "def create_accident_map(df_loc):\n",
    "    \"\"\"Generate a map with CircleMarkers for accident locations.\"\"\"\n",
    "    m = folium.Map(location=[39.8283, -98.5795], width=\"100%\", height=\"100%\", zoom_start=4)\n",
    "    \n",
    "    for index, row in df_loc.iterrows():\n",
    "        lat = row['Start_Lat']\n",
    "        lon = row['Start_Lng']\n",
    "        \n",
    "        if not pd.isnull(lat) and not pd.isnull(lon):\n",
    "            folium.CircleMarker(\n",
    "                location=[lat, lon],\n",
    "                radius=1,\n",
    "                color='blue',\n",
    "                fill=True,\n",
    "                fill_color='blue',\n",
    "                fill_opacity=0.6\n",
    "            ).add_to(m)\n",
    "\n",
    "    return m\n",
    "\n",
    "create_accident_map(df_loc)"
   ]
  },
  {
   "cell_type": "markdown",
   "id": "c4fdd958-9629-492c-a186-1bbe20f56542",
   "metadata": {},
   "source": [
    "### Accident Severity Map with Colored Markers"
   ]
  },
  {
   "cell_type": "code",
   "execution_count": null,
   "id": "b9dfd607-0026-4600-9911-8d137b9dccb9",
   "metadata": {},
   "outputs": [],
   "source": [
    "def create_accident_map_with_colors(df_loc):\n",
    "    \"\"\"Generate a map with CircleMarkers for accident locations, colored by severity.\"\"\"\n",
    "    m = folium.Map(location=[39.8283, -98.5795], width=\"100%\", height=\"100%\", zoom_start=4)\n",
    "    \n",
    "    # color scheme for different severity levels \n",
    "    severity_colors = {\n",
    "        1: 'purple',\n",
    "        2: 'green',\n",
    "        3: 'orange',\n",
    "        4: 'red',\n",
    "    }\n",
    "    \n",
    "    for index, row in df_loc.iterrows():\n",
    "        lat = row['Start_Lat']\n",
    "        lon = row['Start_Lng']\n",
    "        severity = row['Severity']\n",
    "        \n",
    "        if not pd.isnull(lat) and not pd.isnull(lon) and severity in severity_colors:\n",
    "            # Get color based on severity\n",
    "            color = severity_colors[severity]\n",
    "            \n",
    "            folium.CircleMarker(\n",
    "                location=[lat, lon],\n",
    "                radius=1,\n",
    "                color=color,\n",
    "                fill=True,\n",
    "                fill_color=color,\n",
    "                fill_opacity=0.6\n",
    "            ).add_to(m)\n",
    "    return m\n",
    "\n",
    "create_accident_map_with_colors(df_loc)\n",
    "Make this Notebook Trusted to "
   ]
  },
  {
   "cell_type": "code",
   "execution_count": null,
   "id": "640380cb-9ae6-4fef-92dc-0ad68a395193",
   "metadata": {},
   "outputs": [],
   "source": []
  },
  {
   "cell_type": "code",
   "execution_count": null,
   "id": "91aaa2dc-dd85-4d4c-bd33-6d4663f7ae6e",
   "metadata": {},
   "outputs": [],
   "source": []
  }
 ],
 "metadata": {
  "kernelspec": {
   "display_name": "Python 3",
   "language": "python",
   "name": "python3"
  },
  "language_info": {
   "codemirror_mode": {
    "name": "ipython",
    "version": 3
   },
   "file_extension": ".py",
   "mimetype": "text/x-python",
   "name": "python",
   "nbconvert_exporter": "python",
   "pygments_lexer": "ipython3",
   "version": "3.12.10"
  }
 },
 "nbformat": 4,
 "nbformat_minor": 5
}
